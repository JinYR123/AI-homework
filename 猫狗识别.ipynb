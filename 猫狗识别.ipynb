{
 "cells": [
  {
   "cell_type": "markdown",
   "metadata": {
    "colab_type": "text",
    "id": "3bSXLX4pkdxs"
   },
   "source": []
  },
  {
   "cell_type": "markdown",
   "metadata": {},
   "source": []
  },
  {
   "cell_type": "markdown",
   "metadata": {
    "colab_type": "text",
    "id": "3TQcJVqBuYi4"
   },
   "source": [
    "### 导入工具包"
   ]
  },
  {
   "cell_type": "code",
   "execution_count": 6,
   "metadata": {
    "colab": {},
    "colab_type": "code",
    "id": "uyi-eUVGTe_j"
   },
   "outputs": [],
   "source": [
    "import os\n",
    "import warnings\n",
    "warnings.filterwarnings(\"ignore\")\n",
    "import tensorflow as tf\n",
    "from tensorflow.keras.optimizers import Adam\n",
    "from tensorflow.keras.preprocessing.image import ImageDataGenerator\n"
   ]
  },
  {
   "cell_type": "markdown",
   "metadata": {
    "colab_type": "text",
    "id": "gatL3NZbvj_p"
   },
   "source": [
    "### 指定好数据路径（训练和验证）"
   ]
  },
  {
   "cell_type": "code",
   "execution_count": 7,
   "metadata": {
    "colab": {},
    "colab_type": "code",
    "id": "CRLCp-a6vtCN"
   },
   "outputs": [],
   "source": [
    "# 数据所在文件夹\n",
    "base_dir = './data/cats_and_dogs'\n",
    "train_dir = os.path.join(base_dir, 'train')\n",
    "validation_dir = os.path.join(base_dir, 'validation')\n",
    "\n",
    "# 训练集\n",
    "train_cats_dir = os.path.join(train_dir, 'cats')\n",
    "train_dogs_dir = os.path.join(train_dir, 'dogs')\n",
    "\n",
    "# 验证集\n",
    "validation_cats_dir = os.path.join(validation_dir, 'cats')\n",
    "validation_dogs_dir = os.path.join(validation_dir, 'dogs')"
   ]
  },
  {
   "cell_type": "markdown",
   "metadata": {
    "colab_type": "text",
    "id": "D72OzHazUUK9"
   },
   "source": [
    "### 构建卷积神经网络模型"
   ]
  },
  {
   "cell_type": "code",
   "execution_count": 8,
   "metadata": {
    "colab": {
     "base_uri": "https://localhost:8080/",
     "height": 88
    },
    "colab_type": "code",
    "id": "Aedt-HNewUP3",
    "outputId": "09cc6986-eb07-499d-ea6f-714f8035f3f3"
   },
   "outputs": [],
   "source": [
    "model = tf.keras.models.Sequential([\n",
    "    #如果训练慢，可以把数据设置的更小一些\n",
    "    tf.keras.layers.Conv2D(32, (3,3), activation='relu', input_shape=(64, 64, 3)),\n",
    "    tf.keras.layers.MaxPooling2D(2, 2),\n",
    "\n",
    "    tf.keras.layers.Conv2D(64, (3,3), activation='relu'),\n",
    "    tf.keras.layers.MaxPooling2D(2,2),\n",
    "\n",
    "    tf.keras.layers.Conv2D(128, (3,3), activation='relu'),\n",
    "    tf.keras.layers.MaxPooling2D(2,2),\n",
    "    \n",
    "    #为全连接层准备\n",
    "    tf.keras.layers.Flatten(),\n",
    "    \n",
    "    tf.keras.layers.Dense(512, activation='relu'),\n",
    "    # 二分类sigmoid就够了\n",
    "    tf.keras.layers.Dense(1, activation='sigmoid')\n",
    "])"
   ]
  },
  {
   "cell_type": "code",
   "execution_count": 9,
   "metadata": {
    "colab": {
     "base_uri": "https://localhost:8080/",
     "height": 527
    },
    "colab_type": "code",
    "id": "tDtm3juUWpw6",
    "outputId": "7822dc4f-3aa1-47bc-a635-f5161b71d079"
   },
   "outputs": [
    {
     "name": "stdout",
     "output_type": "stream",
     "text": [
      "Model: \"sequential\"\n",
      "_________________________________________________________________\n",
      "Layer (type)                 Output Shape              Param #   \n",
      "=================================================================\n",
      "conv2d (Conv2D)              (None, 62, 62, 32)        896       \n",
      "_________________________________________________________________\n",
      "max_pooling2d (MaxPooling2D) (None, 31, 31, 32)        0         \n",
      "_________________________________________________________________\n",
      "conv2d_1 (Conv2D)            (None, 29, 29, 64)        18496     \n",
      "_________________________________________________________________\n",
      "max_pooling2d_1 (MaxPooling2 (None, 14, 14, 64)        0         \n",
      "_________________________________________________________________\n",
      "conv2d_2 (Conv2D)            (None, 12, 12, 128)       73856     \n",
      "_________________________________________________________________\n",
      "max_pooling2d_2 (MaxPooling2 (None, 6, 6, 128)         0         \n",
      "_________________________________________________________________\n",
      "flatten (Flatten)            (None, 4608)              0         \n",
      "_________________________________________________________________\n",
      "dense (Dense)                (None, 512)               2359808   \n",
      "_________________________________________________________________\n",
      "dense_1 (Dense)              (None, 1)                 513       \n",
      "=================================================================\n",
      "Total params: 2,453,569\n",
      "Trainable params: 2,453,569\n",
      "Non-trainable params: 0\n",
      "_________________________________________________________________\n"
     ]
    }
   ],
   "source": [
    "model.summary()"
   ]
  },
  {
   "cell_type": "markdown",
   "metadata": {
    "colab_type": "text",
    "id": "GFnJT_vVWn1M"
   },
   "source": [
    "### 配置训练器"
   ]
  },
  {
   "cell_type": "code",
   "execution_count": 10,
   "metadata": {
    "colab": {
     "base_uri": "https://localhost:8080/",
     "height": 88
    },
    "colab_type": "code",
    "id": "anR2p_UMX9TA",
    "outputId": "b816458e-2cf8-4f30-a953-cb11f9f9a157"
   },
   "outputs": [],
   "source": [
    "model.compile(loss='binary_crossentropy',\n",
    "              optimizer=Adam(lr=1e-4),\n",
    "              metrics=['acc'])"
   ]
  },
  {
   "cell_type": "markdown",
   "metadata": {},
   "source": [
    "### 数据预处理"
   ]
  },
  {
   "cell_type": "code",
   "execution_count": 11,
   "metadata": {
    "colab": {},
    "colab_type": "code",
    "id": "6iogIhqTxGeX"
   },
   "outputs": [],
   "source": [
    "train_datagen = ImageDataGenerator(rescale=1./255)\n",
    "test_datagen = ImageDataGenerator(rescale=1./255)"
   ]
  },
  {
   "cell_type": "code",
   "execution_count": 12,
   "metadata": {
    "colab": {
     "base_uri": "https://localhost:8080/",
     "height": 51
    },
    "colab_type": "code",
    "id": "f9D_MjIHx2XD",
    "outputId": "abc41e7c-48a1-4dad-b3fe-4442f2cf6953"
   },
   "outputs": [
    {
     "name": "stdout",
     "output_type": "stream",
     "text": [
      "Found 2000 images belonging to 2 classes.\n",
      "Found 1000 images belonging to 2 classes.\n"
     ]
    }
   ],
   "source": [
    "train_generator = train_datagen.flow_from_directory(\n",
    "        train_dir,  # 文件夹路径\n",
    "        target_size=(64, 64),  # 指定resize成的大小\n",
    "        batch_size=20,\n",
    "        # 如果one-hot就是categorical，二分类用binary就可以\n",
    "        class_mode='binary')\n",
    "\n",
    "validation_generator = test_datagen.flow_from_directory(\n",
    "        validation_dir,\n",
    "        target_size=(64, 64),\n",
    "        batch_size=20,\n",
    "        class_mode='binary')"
   ]
  },
  {
   "cell_type": "markdown",
   "metadata": {
    "colab_type": "text",
    "id": "I8TfHlDGx8Gz"
   },
   "source": [
    "### 训练网络模型"
   ]
  },
  {
   "cell_type": "code",
   "execution_count": 13,
   "metadata": {
    "colab": {
     "base_uri": "https://localhost:8080/",
     "height": 1000
    },
    "colab_type": "code",
    "id": "m6yLZpibyMXB",
    "outputId": "7944b730-b558-4ee7-9ed7-18021ed7af4a"
   },
   "outputs": [
    {
     "name": "stdout",
     "output_type": "stream",
     "text": [
      "WARNING:tensorflow:From <ipython-input-13-98d690d15a2e>:1: Model.fit_generator (from tensorflow.python.keras.engine.training) is deprecated and will be removed in a future version.\n",
      "Instructions for updating:\n",
      "Please use Model.fit, which supports generators.\n",
      "Epoch 1/20\n",
      "100/100 - 6s - loss: 0.6919 - acc: 0.5315 - val_loss: 0.6730 - val_acc: 0.6490\n",
      "Epoch 2/20\n",
      "100/100 - 5s - loss: 0.6710 - acc: 0.5845 - val_loss: 0.6567 - val_acc: 0.6050\n",
      "Epoch 3/20\n",
      "100/100 - 5s - loss: 0.6360 - acc: 0.6380 - val_loss: 0.6189 - val_acc: 0.6690\n",
      "Epoch 4/20\n",
      "100/100 - 5s - loss: 0.5975 - acc: 0.6880 - val_loss: 0.6023 - val_acc: 0.6590\n",
      "Epoch 5/20\n",
      "100/100 - 5s - loss: 0.5523 - acc: 0.7240 - val_loss: 0.5961 - val_acc: 0.6860\n",
      "Epoch 6/20\n",
      "100/100 - 5s - loss: 0.5267 - acc: 0.7405 - val_loss: 0.6148 - val_acc: 0.6630\n",
      "Epoch 7/20\n",
      "100/100 - 5s - loss: 0.4906 - acc: 0.7625 - val_loss: 0.5563 - val_acc: 0.7080\n",
      "Epoch 8/20\n",
      "100/100 - 5s - loss: 0.4584 - acc: 0.7955 - val_loss: 0.5562 - val_acc: 0.7090\n",
      "Epoch 9/20\n",
      "100/100 - 5s - loss: 0.4435 - acc: 0.7895 - val_loss: 0.5518 - val_acc: 0.7150\n",
      "Epoch 10/20\n",
      "100/100 - 5s - loss: 0.4199 - acc: 0.8035 - val_loss: 0.5671 - val_acc: 0.7090\n",
      "Epoch 11/20\n",
      "100/100 - 5s - loss: 0.3888 - acc: 0.8360 - val_loss: 0.5717 - val_acc: 0.7100\n",
      "Epoch 12/20\n",
      "100/100 - 5s - loss: 0.3588 - acc: 0.8435 - val_loss: 0.5412 - val_acc: 0.7350\n",
      "Epoch 13/20\n",
      "100/100 - 5s - loss: 0.3412 - acc: 0.8535 - val_loss: 0.5573 - val_acc: 0.7280\n",
      "Epoch 14/20\n",
      "100/100 - 5s - loss: 0.3107 - acc: 0.8800 - val_loss: 0.5409 - val_acc: 0.7340\n",
      "Epoch 15/20\n",
      "100/100 - 5s - loss: 0.2763 - acc: 0.8965 - val_loss: 0.5559 - val_acc: 0.7450\n",
      "Epoch 16/20\n",
      "100/100 - 5s - loss: 0.2547 - acc: 0.9075 - val_loss: 0.5583 - val_acc: 0.7360\n",
      "Epoch 17/20\n",
      "100/100 - 5s - loss: 0.2439 - acc: 0.9085 - val_loss: 0.5579 - val_acc: 0.7430\n",
      "Epoch 18/20\n",
      "100/100 - 5s - loss: 0.2270 - acc: 0.9245 - val_loss: 0.6233 - val_acc: 0.7230\n",
      "Epoch 19/20\n",
      "100/100 - 5s - loss: 0.1940 - acc: 0.9345 - val_loss: 0.5840 - val_acc: 0.7440\n",
      "Epoch 20/20\n",
      "100/100 - 5s - loss: 0.1735 - acc: 0.9440 - val_loss: 0.6252 - val_acc: 0.7340\n"
     ]
    }
   ],
   "source": [
    "history = model.fit_generator(\n",
    "      train_generator,\n",
    "      steps_per_epoch=100,  # 2000 images = batch_size * steps\n",
    "      epochs=20,\n",
    "      validation_data=validation_generator,\n",
    "      validation_steps=50,  # 1000 images = batch_size * steps\n",
    "      verbose=2)"
   ]
  },
  {
   "cell_type": "markdown",
   "metadata": {
    "colab_type": "text",
    "id": "jJFgckBNyhu8"
   },
   "source": [
    "### 效果展示"
   ]
  },
  {
   "cell_type": "code",
   "execution_count": 14,
   "metadata": {
    "colab": {
     "base_uri": "https://localhost:8080/",
     "height": 545
    },
    "colab_type": "code",
    "id": "Bc-Y9ymQz1nq",
    "outputId": "391f6998-8282-480d-b857-0dd569d0e661"
   },
   "outputs": [
    {
     "data": {
      "image/png": "[encoded data removed]",
      "text/plain": [
       "<Figure size 432x288 with 1 Axes>"
      ]
     },
     "metadata": {
      "needs_background": "light"
     },
     "output_type": "display_data"
    },
    {
     "data": {
      "image/png": "[encoded data removed]",
      "text/plain": [
       "<Figure size 432x288 with 1 Axes>"
      ]
     },
     "metadata": {
      "needs_background": "light"
     },
     "output_type": "display_data"
    }
   ],
   "source": [
    "import matplotlib.pyplot as plt\n",
    "acc = history.history['acc']\n",
    "val_acc = history.history['val_acc']\n",
    "loss = history.history['loss']\n",
    "val_loss = history.history['val_loss']\n",
    "\n",
    "epochs = range(len(acc))\n",
    "\n",
    "plt.plot(epochs, acc, 'bo', label='Training accuracy')\n",
    "plt.plot(epochs, val_acc, 'b', label='Validation accuracy')\n",
    "plt.title('Training and validation accuracy')\n",
    "\n",
    "plt.figure()\n",
    "\n",
    "plt.plot(epochs, loss, 'bo', label='Training Loss')\n",
    "plt.plot(epochs, val_loss, 'b', label='Validation Loss')\n",
    "plt.title('Training and validation loss')\n",
    "plt.legend()\n",
    "\n",
    "plt.show()"
   ]
  },
  {
   "cell_type": "markdown",
   "metadata": {},
   "source": [
    "看起来完全过拟合了，如何解决呢？"
   ]
  },
  {
   "cell_type": "markdown",
   "metadata": {},
   "source": [
    "### 保存模型并预测"
   ]
  },
  {
   "cell_type": "code",
   "execution_count": 15,
   "metadata": {},
   "outputs": [],
   "source": [
    "#保存模型\n",
    "model.save(r'./model/catsanddogs.h5')"
   ]
  },
  {
   "cell_type": "code",
   "execution_count": 20,
   "metadata": {},
   "outputs": [
    {
     "name": "stdout",
     "output_type": "stream",
     "text": [
      "[0.05734905]\n",
      "这是猫\n"
     ]
    },
    {
     "data": {
      "text/plain": [
       "<matplotlib.image.AxesImage at 0x2beb9593eb0>"
      ]
     },
     "execution_count": 20,
     "metadata": {},
     "output_type": "execute_result"
    },
    {
     "data": {
      "image/png": "[encoded data removed]",
      "text/plain": [
       "<Figure size 432x288 with 1 Axes>"
      ]
     },
     "metadata": {
      "needs_background": "light"
     },
     "output_type": "display_data"
    }
   ],
   "source": [
    "# 输入新的图片，经过预处理后，输入到预处理的网络中，预测这个图片是狗还是猫\n",
    "import numpy as np\n",
    "from tensorflow.keras.preprocessing import image\n",
    "import matplotlib.pyplot as plt\n",
    "path = './data/cats_and_dogs/train/cats/cat.1.jpg'\n",
    "img = image.load_img(path, target_size=(64, 64))\n",
    "x = image.img_to_array(img)\n",
    "x = np.expand_dims(x, axis=0)\n",
    "images = np.vstack([x])\n",
    "images=images/255\n",
    "classes = model.predict(images, batch_size=10)\n",
    "print(classes[0])\n",
    "if classes[0]>0.5:\n",
    "    print(\"这是狗\")\n",
    "else:\n",
    "    print(\"这是猫\")\n",
    "plt.imshow(img) # 显示图片"
   ]
  },
  {
   "cell_type": "code",
   "execution_count": null,
   "metadata": {},
   "outputs": [],
   "source": []
  }
 ],
 "metadata": {
  "accelerator": "GPU",
  "colab": {
   "collapsed_sections": [],
   "name": "dogsVcats_subset_v2",
   "provenance": [],
   "version": "0.3.2"
  },
  "kernelspec": {
   "display_name": "Python 3",
   "language": "python",
   "name": "python3"
  },
  "language_info": {
   "codemirror_mode": {
    "name": "ipython",
    "version": 3
   },
   "file_extension": ".py",
   "mimetype": "text/x-python",
   "name": "python",
   "nbconvert_exporter": "python",
   "pygments_lexer": "ipython3",
   "version": "3.8.5"
  }
 },
 "nbformat": 4,
 "nbformat_minor": 1
}
